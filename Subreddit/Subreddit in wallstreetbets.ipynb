{
 "cells": [
  {
   "cell_type": "markdown",
   "id": "6d8f96e3",
   "metadata": {},
   "source": [
    "# Import libraries"
   ]
  },
  {
   "cell_type": "code",
   "execution_count": 1,
   "id": "a538b6a8",
   "metadata": {
    "executionInfo": {
     "elapsed": 132,
     "status": "ok",
     "timestamp": 1646694450372,
     "user": {
      "displayName": "Kelvin Chou",
      "photoUrl": "https://lh3.googleusercontent.com/a/default-user=s64",
      "userId": "14767926636193819951"
     },
     "user_tz": 300
    },
    "id": "a538b6a8"
   },
   "outputs": [],
   "source": [
    "import pandas as pd\n",
    "from pmaw import PushshiftAPI\n",
    "import datetime as dt\n",
    "import re\n",
    "import time\n",
    "from nltk.corpus import stopwords\n",
    "from nltk.tokenize import word_tokenize\n",
    "from tqdm import tqdm"
   ]
  },
  {
   "cell_type": "markdown",
   "id": "473b26b0",
   "metadata": {},
   "source": [
    "# Retreive Subreddit 'wallstreetbets' with API\n",
    "- Export '2021_240000_posts.csv'"
   ]
  },
  {
   "cell_type": "code",
   "execution_count": 2,
   "id": "c9ecd39c",
   "metadata": {
    "executionInfo": {
     "elapsed": 2,
     "status": "ok",
     "timestamp": 1646694450570,
     "user": {
      "displayName": "Kelvin Chou",
      "photoUrl": "https://lh3.googleusercontent.com/a/default-user=s64",
      "userId": "14767926636193819951"
     },
     "user_tz": 300
    },
    "id": "c9ecd39c"
   },
   "outputs": [],
   "source": [
    "# instantiate\n",
    "api = PushshiftAPI()\n",
    "\n",
    "# Time in 2021\n",
    "before = int(dt.datetime(2021,1,31,23,59).timestamp())\n",
    "after = int(dt.datetime(2021,1,1,0,0).timestamp())\n",
    "\n",
    "# wallstreetbets\n",
    "subreddit = 'wallstreetbets'"
   ]
  },
  {
   "cell_type": "markdown",
   "id": "aa9f202e",
   "metadata": {},
   "source": [
    "### Here I collect 20,000 posts for each month, so the total number of data is 240,000."
   ]
  },
  {
   "cell_type": "code",
   "execution_count": 3,
   "id": "44c81bba",
   "metadata": {},
   "outputs": [
    {
     "name": "stderr",
     "output_type": "stream",
     "text": [
      "100%|███████████████████████████████████████████████████████████████████████████████████| 1/1 [06:50<00:00, 410.68s/it]\n"
     ]
    }
   ],
   "source": [
    "posts_df = pd.DataFrame()\n",
    "for i in tqdm(range(1, 13)):\n",
    "    api = PushshiftAPI()\n",
    "    if i in (1,3,5,7,8,10,12):\n",
    "        day = 31\n",
    "    elif i == 2: \n",
    "        day = 28\n",
    "    else:\n",
    "        day = 30\n",
    "    after = int(dt.datetime(2021,i,1,0,0).timestamp())\n",
    "    before = int(dt.datetime(2021,i,day,23,59).timestamp())\n",
    "    posts = api.search_submissions(subreddit = subreddit, limit=20000, before = before, after = after)\n",
    "    df = pd.DataFrame(posts)\n",
    "    posts_df = pd.concat([posts_df, df])"
   ]
  },
  {
   "cell_type": "code",
   "execution_count": 4,
   "id": "67c2a2cf",
   "metadata": {},
   "outputs": [
    {
     "data": {
      "text/html": [
       "<div>\n",
       "<style scoped>\n",
       "    .dataframe tbody tr th:only-of-type {\n",
       "        vertical-align: middle;\n",
       "    }\n",
       "\n",
       "    .dataframe tbody tr th {\n",
       "        vertical-align: top;\n",
       "    }\n",
       "\n",
       "    .dataframe thead th {\n",
       "        text-align: right;\n",
       "    }\n",
       "</style>\n",
       "<table border=\"1\" class=\"dataframe\">\n",
       "  <thead>\n",
       "    <tr style=\"text-align: right;\">\n",
       "      <th></th>\n",
       "      <th>all_awardings</th>\n",
       "      <th>allow_live_comments</th>\n",
       "      <th>author</th>\n",
       "      <th>author_flair_css_class</th>\n",
       "      <th>author_flair_richtext</th>\n",
       "      <th>author_flair_text</th>\n",
       "      <th>author_flair_type</th>\n",
       "      <th>author_fullname</th>\n",
       "      <th>author_patreon_flair</th>\n",
       "      <th>author_premium</th>\n",
       "      <th>...</th>\n",
       "      <th>media</th>\n",
       "      <th>media_embed</th>\n",
       "      <th>secure_media</th>\n",
       "      <th>secure_media_embed</th>\n",
       "      <th>author_flair_template_id</th>\n",
       "      <th>banned_by</th>\n",
       "      <th>edited</th>\n",
       "      <th>gilded</th>\n",
       "      <th>collections</th>\n",
       "      <th>distinguished</th>\n",
       "    </tr>\n",
       "  </thead>\n",
       "  <tbody>\n",
       "    <tr>\n",
       "      <th>0</th>\n",
       "      <td>[]</td>\n",
       "      <td>False</td>\n",
       "      <td>Vegetable-Secretary2</td>\n",
       "      <td>None</td>\n",
       "      <td>[]</td>\n",
       "      <td>None</td>\n",
       "      <td>text</td>\n",
       "      <td>t2_8nndatmg</td>\n",
       "      <td>False</td>\n",
       "      <td>False</td>\n",
       "      <td>...</td>\n",
       "      <td>NaN</td>\n",
       "      <td>NaN</td>\n",
       "      <td>NaN</td>\n",
       "      <td>NaN</td>\n",
       "      <td>NaN</td>\n",
       "      <td>NaN</td>\n",
       "      <td>NaN</td>\n",
       "      <td>NaN</td>\n",
       "      <td>NaN</td>\n",
       "      <td>NaN</td>\n",
       "    </tr>\n",
       "    <tr>\n",
       "      <th>1</th>\n",
       "      <td>[]</td>\n",
       "      <td>False</td>\n",
       "      <td>goofytoottt</td>\n",
       "      <td>None</td>\n",
       "      <td>[]</td>\n",
       "      <td>None</td>\n",
       "      <td>text</td>\n",
       "      <td>t2_5f5hbtzt</td>\n",
       "      <td>False</td>\n",
       "      <td>False</td>\n",
       "      <td>...</td>\n",
       "      <td>NaN</td>\n",
       "      <td>NaN</td>\n",
       "      <td>NaN</td>\n",
       "      <td>NaN</td>\n",
       "      <td>NaN</td>\n",
       "      <td>NaN</td>\n",
       "      <td>NaN</td>\n",
       "      <td>NaN</td>\n",
       "      <td>NaN</td>\n",
       "      <td>NaN</td>\n",
       "    </tr>\n",
       "    <tr>\n",
       "      <th>2</th>\n",
       "      <td>[]</td>\n",
       "      <td>False</td>\n",
       "      <td>Vegetable-Secretary2</td>\n",
       "      <td>None</td>\n",
       "      <td>[]</td>\n",
       "      <td>None</td>\n",
       "      <td>text</td>\n",
       "      <td>t2_8nndatmg</td>\n",
       "      <td>False</td>\n",
       "      <td>False</td>\n",
       "      <td>...</td>\n",
       "      <td>NaN</td>\n",
       "      <td>NaN</td>\n",
       "      <td>NaN</td>\n",
       "      <td>NaN</td>\n",
       "      <td>NaN</td>\n",
       "      <td>NaN</td>\n",
       "      <td>NaN</td>\n",
       "      <td>NaN</td>\n",
       "      <td>NaN</td>\n",
       "      <td>NaN</td>\n",
       "    </tr>\n",
       "    <tr>\n",
       "      <th>3</th>\n",
       "      <td>[]</td>\n",
       "      <td>False</td>\n",
       "      <td>Vegetable-Secretary2</td>\n",
       "      <td>None</td>\n",
       "      <td>[]</td>\n",
       "      <td>None</td>\n",
       "      <td>text</td>\n",
       "      <td>t2_8nndatmg</td>\n",
       "      <td>False</td>\n",
       "      <td>False</td>\n",
       "      <td>...</td>\n",
       "      <td>NaN</td>\n",
       "      <td>NaN</td>\n",
       "      <td>NaN</td>\n",
       "      <td>NaN</td>\n",
       "      <td>NaN</td>\n",
       "      <td>NaN</td>\n",
       "      <td>NaN</td>\n",
       "      <td>NaN</td>\n",
       "      <td>NaN</td>\n",
       "      <td>NaN</td>\n",
       "    </tr>\n",
       "    <tr>\n",
       "      <th>4</th>\n",
       "      <td>[]</td>\n",
       "      <td>False</td>\n",
       "      <td>Untitled_DJ</td>\n",
       "      <td>None</td>\n",
       "      <td>[]</td>\n",
       "      <td>None</td>\n",
       "      <td>text</td>\n",
       "      <td>t2_8kkeyj45</td>\n",
       "      <td>False</td>\n",
       "      <td>True</td>\n",
       "      <td>...</td>\n",
       "      <td>NaN</td>\n",
       "      <td>NaN</td>\n",
       "      <td>NaN</td>\n",
       "      <td>NaN</td>\n",
       "      <td>NaN</td>\n",
       "      <td>NaN</td>\n",
       "      <td>NaN</td>\n",
       "      <td>NaN</td>\n",
       "      <td>NaN</td>\n",
       "      <td>NaN</td>\n",
       "    </tr>\n",
       "  </tbody>\n",
       "</table>\n",
       "<p>5 rows × 83 columns</p>\n",
       "</div>"
      ],
      "text/plain": [
       "  all_awardings  allow_live_comments                author  \\\n",
       "0            []                False  Vegetable-Secretary2   \n",
       "1            []                False           goofytoottt   \n",
       "2            []                False  Vegetable-Secretary2   \n",
       "3            []                False  Vegetable-Secretary2   \n",
       "4            []                False           Untitled_DJ   \n",
       "\n",
       "  author_flair_css_class author_flair_richtext author_flair_text  \\\n",
       "0                   None                    []              None   \n",
       "1                   None                    []              None   \n",
       "2                   None                    []              None   \n",
       "3                   None                    []              None   \n",
       "4                   None                    []              None   \n",
       "\n",
       "  author_flair_type author_fullname author_patreon_flair author_premium  ...  \\\n",
       "0              text     t2_8nndatmg                False          False  ...   \n",
       "1              text     t2_5f5hbtzt                False          False  ...   \n",
       "2              text     t2_8nndatmg                False          False  ...   \n",
       "3              text     t2_8nndatmg                False          False  ...   \n",
       "4              text     t2_8kkeyj45                False           True  ...   \n",
       "\n",
       "  media  media_embed  secure_media  secure_media_embed  \\\n",
       "0   NaN          NaN           NaN                 NaN   \n",
       "1   NaN          NaN           NaN                 NaN   \n",
       "2   NaN          NaN           NaN                 NaN   \n",
       "3   NaN          NaN           NaN                 NaN   \n",
       "4   NaN          NaN           NaN                 NaN   \n",
       "\n",
       "  author_flair_template_id banned_by edited gilded  collections  distinguished  \n",
       "0                      NaN       NaN    NaN    NaN          NaN            NaN  \n",
       "1                      NaN       NaN    NaN    NaN          NaN            NaN  \n",
       "2                      NaN       NaN    NaN    NaN          NaN            NaN  \n",
       "3                      NaN       NaN    NaN    NaN          NaN            NaN  \n",
       "4                      NaN       NaN    NaN    NaN          NaN            NaN  \n",
       "\n",
       "[5 rows x 83 columns]"
      ]
     },
     "execution_count": 4,
     "metadata": {},
     "output_type": "execute_result"
    }
   ],
   "source": [
    "# Example of few data\n",
    "posts_df = posts_df.reset_index(drop = True)\n",
    "posts_df.head(5)"
   ]
  },
  {
   "cell_type": "code",
   "execution_count": 5,
   "id": "3e8310f4",
   "metadata": {},
   "outputs": [],
   "source": [
    "# Export '2021_240000_posts.csv'\n",
    "posts_df.to_csv('./Datasets/2021_240000_posts.csv', index = False)"
   ]
  },
  {
   "cell_type": "markdown",
   "id": "0b4a863f",
   "metadata": {},
   "source": [
    "# Process the data\n",
    "- Select feautures we need\n",
    "- New column 'content' for all texts\n",
    "- Drop data with nan in content column\n",
    "- Export '2021_118990_posts_modified.csv'"
   ]
  },
  {
   "cell_type": "code",
   "execution_count": 19,
   "id": "1108a7ad",
   "metadata": {},
   "outputs": [
    {
     "name": "stderr",
     "output_type": "stream",
     "text": [
      "C:\\Users\\USER\\anaconda3\\lib\\site-packages\\IPython\\core\\interactiveshell.py:3165: DtypeWarning: Columns (3,81,82,83,84,85,86,87,88,89,90) have mixed types.Specify dtype option on import or set low_memory=False.\n",
      "  has_raised = await self.run_ast_nodes(code_ast.body, cell_name,\n"
     ]
    }
   ],
   "source": [
    "posts_df = pd.read_csv('./Datasets/2021_240000_posts.csv')"
   ]
  },
  {
   "cell_type": "code",
   "execution_count": 20,
   "id": "3676cf71",
   "metadata": {
    "colab": {
     "base_uri": "https://localhost:8080/",
     "height": 424
    },
    "executionInfo": {
     "elapsed": 871,
     "status": "ok",
     "timestamp": 1646692292838,
     "user": {
      "displayName": "Kelvin Chou",
      "photoUrl": "https://lh3.googleusercontent.com/a/default-user=s64",
      "userId": "14767926636193819951"
     },
     "user_tz": 300
    },
    "id": "3676cf71",
    "outputId": "df83b6c0-ca5f-4333-cc38-3dde9b4667ca"
   },
   "outputs": [],
   "source": [
    "# Select features we need\n",
    "posts_df = posts_df[['title','num_comments', 'score', 'upvote_ratio', 'selftext','created_utc']]\n",
    "posts_df.created_utc = posts_df.created_utc.apply(lambda x: dt.datetime.fromtimestamp(x)) # Convert time created\n",
    "\n",
    "# New column 'content' with combined title and selftext(posts)\n",
    "posts_df['content'] = posts_df['title'] + \" \" + posts_df['selftext']\n",
    "posts_df = posts_df.drop(['title', 'selftext'], axis=1)\n",
    "\n",
    "# remove non-letter or space\n",
    "regex = re.compile('[^a-zA-Z ]') \n",
    "posts_df['content'] = posts_df.content.apply(lambda x: regex.sub('', str(x)))"
   ]
  },
  {
   "cell_type": "code",
   "execution_count": 21,
   "id": "4f76115e",
   "metadata": {},
   "outputs": [
    {
     "name": "stdout",
     "output_type": "stream",
     "text": [
      "(118990, 5)\n"
     ]
    },
    {
     "data": {
      "text/html": [
       "<div>\n",
       "<style scoped>\n",
       "    .dataframe tbody tr th:only-of-type {\n",
       "        vertical-align: middle;\n",
       "    }\n",
       "\n",
       "    .dataframe tbody tr th {\n",
       "        vertical-align: top;\n",
       "    }\n",
       "\n",
       "    .dataframe thead th {\n",
       "        text-align: right;\n",
       "    }\n",
       "</style>\n",
       "<table border=\"1\" class=\"dataframe\">\n",
       "  <thead>\n",
       "    <tr style=\"text-align: right;\">\n",
       "      <th></th>\n",
       "      <th>num_comments</th>\n",
       "      <th>score</th>\n",
       "      <th>upvote_ratio</th>\n",
       "      <th>created_utc</th>\n",
       "      <th>content</th>\n",
       "    </tr>\n",
       "  </thead>\n",
       "  <tbody>\n",
       "    <tr>\n",
       "      <th>7417</th>\n",
       "      <td>2</td>\n",
       "      <td>1</td>\n",
       "      <td>1.0</td>\n",
       "      <td>2021-01-01 00:04:00</td>\n",
       "      <td>PLEASE HELP WITH OPTIONS removed</td>\n",
       "    </tr>\n",
       "    <tr>\n",
       "      <th>7416</th>\n",
       "      <td>13</td>\n",
       "      <td>1</td>\n",
       "      <td>1.0</td>\n",
       "      <td>2021-01-01 00:05:22</td>\n",
       "      <td>GME Game Informer Magazine Alright so hear me ...</td>\n",
       "    </tr>\n",
       "    <tr>\n",
       "      <th>7415</th>\n",
       "      <td>22</td>\n",
       "      <td>1</td>\n",
       "      <td>1.0</td>\n",
       "      <td>2021-01-01 00:06:40</td>\n",
       "      <td>GME CallOption Question This question is proba...</td>\n",
       "    </tr>\n",
       "    <tr>\n",
       "      <th>3682</th>\n",
       "      <td>2</td>\n",
       "      <td>1</td>\n",
       "      <td>1.0</td>\n",
       "      <td>2021-01-01 00:12:38</td>\n",
       "      <td>NEED YOUR HELP GUYS removed</td>\n",
       "    </tr>\n",
       "    <tr>\n",
       "      <th>3681</th>\n",
       "      <td>12</td>\n",
       "      <td>1</td>\n",
       "      <td>1.0</td>\n",
       "      <td>2021-01-01 00:21:19</td>\n",
       "      <td>Heres to  and tendies Whats up retards and aut...</td>\n",
       "    </tr>\n",
       "  </tbody>\n",
       "</table>\n",
       "</div>"
      ],
      "text/plain": [
       "      num_comments  score  upvote_ratio         created_utc  \\\n",
       "7417             2      1           1.0 2021-01-01 00:04:00   \n",
       "7416            13      1           1.0 2021-01-01 00:05:22   \n",
       "7415            22      1           1.0 2021-01-01 00:06:40   \n",
       "3682             2      1           1.0 2021-01-01 00:12:38   \n",
       "3681            12      1           1.0 2021-01-01 00:21:19   \n",
       "\n",
       "                                                content  \n",
       "7417                   PLEASE HELP WITH OPTIONS removed  \n",
       "7416  GME Game Informer Magazine Alright so hear me ...  \n",
       "7415  GME CallOption Question This question is proba...  \n",
       "3682                        NEED YOUR HELP GUYS removed  \n",
       "3681  Heres to  and tendies Whats up retards and aut...  "
      ]
     },
     "execution_count": 21,
     "metadata": {},
     "output_type": "execute_result"
    }
   ],
   "source": [
    "# Filter out\n",
    "posts_df = posts_df[posts_df.content != 'nan']\n",
    "posts_df = posts_df.reset_index(drop = True)\n",
    "posts_df = posts_df.sort_values('created_utc')\n",
    "print(posts_df.shape)\n",
    "posts_df.head(5)"
   ]
  },
  {
   "cell_type": "code",
   "execution_count": 22,
   "id": "3240a85f",
   "metadata": {},
   "outputs": [],
   "source": [
    "# Export the modified data\n",
    "posts_df.to_csv('./Datasets/2021_118990_posts_modified.csv', index = False)"
   ]
  },
  {
   "cell_type": "markdown",
   "id": "DU-o85ALaw6B",
   "metadata": {
    "id": "DU-o85ALaw6B"
   },
   "source": [
    "# Get stock symbols existing in Nasdaq stock list & add new column with stock ticker\n",
    "1. Export '2021_Symbols_list.csv'\n",
    "2. Export data with new column 'ticker' corresponding to each post (if there are more than 1 stock ticker mentioned in the post, create a new row to store it) --> 'posts_with_ticker.csv'"
   ]
  },
  {
   "cell_type": "code",
   "execution_count": 23,
   "id": "5cf3c105",
   "metadata": {},
   "outputs": [],
   "source": [
    "posts_df = pd.read_csv('./Datasets/2021_118990_posts_modified.csv')"
   ]
  },
  {
   "cell_type": "code",
   "execution_count": 24,
   "id": "ba61a214",
   "metadata": {},
   "outputs": [],
   "source": [
    "# Stock ticker list\n",
    "stock = pd.read_csv(\"./Datasets/Nasdaq_stock.csv\")\n",
    "stock_symbols = list(stock.Symbol)"
   ]
  },
  {
   "cell_type": "code",
   "execution_count": 25,
   "id": "739b166b",
   "metadata": {},
   "outputs": [],
   "source": [
    "# Count the number of stock tickers\n",
    "stop_words = set(stopwords.words('english'))\n",
    "all_tickers = {}\n",
    "ticker_col = []\n",
    "for i, sentence in enumerate(posts_df['content']):\n",
    "    word_tokens = word_tokenize(sentence)\n",
    "    # tickers of each post\n",
    "    ticker = []\n",
    "    for w in word_tokens:\n",
    "        if (w.lower() not in stop_words) and (w in stock_symbols): # word is not a common words and is a stock symbol\n",
    "            if w not in all_tickers:\n",
    "                all_tickers[w] = 1\n",
    "            else:\n",
    "                all_tickers[w] += 1\n",
    "      \n",
    "            if w not in ticker:\n",
    "                ticker.append(w)\n",
    "                \n",
    "    if ticker == []:\n",
    "        ticker_col.append('NA')\n",
    "    else:\n",
    "        ticker_col.append(ticker)\n"
   ]
  },
  {
   "cell_type": "markdown",
   "id": "b4972fcb",
   "metadata": {},
   "source": [
    "### 1. Export '2021_Symbols_list.csv'"
   ]
  },
  {
   "cell_type": "code",
   "execution_count": 26,
   "id": "0bb5e8ac",
   "metadata": {},
   "outputs": [
    {
     "data": {
      "text/html": [
       "<div>\n",
       "<style scoped>\n",
       "    .dataframe tbody tr th:only-of-type {\n",
       "        vertical-align: middle;\n",
       "    }\n",
       "\n",
       "    .dataframe tbody tr th {\n",
       "        vertical-align: top;\n",
       "    }\n",
       "\n",
       "    .dataframe thead th {\n",
       "        text-align: right;\n",
       "    }\n",
       "</style>\n",
       "<table border=\"1\" class=\"dataframe\">\n",
       "  <thead>\n",
       "    <tr style=\"text-align: right;\">\n",
       "      <th></th>\n",
       "      <th>Symbols</th>\n",
       "      <th>Counts</th>\n",
       "    </tr>\n",
       "  </thead>\n",
       "  <tbody>\n",
       "    <tr>\n",
       "      <th>0</th>\n",
       "      <td>CLOV</td>\n",
       "      <td>3421</td>\n",
       "    </tr>\n",
       "    <tr>\n",
       "      <th>1</th>\n",
       "      <td>TSLA</td>\n",
       "      <td>1985</td>\n",
       "    </tr>\n",
       "    <tr>\n",
       "      <th>2</th>\n",
       "      <td>WISH</td>\n",
       "      <td>1923</td>\n",
       "    </tr>\n",
       "    <tr>\n",
       "      <th>3</th>\n",
       "      <td>AMD</td>\n",
       "      <td>1144</td>\n",
       "    </tr>\n",
       "    <tr>\n",
       "      <th>4</th>\n",
       "      <td>SDC</td>\n",
       "      <td>1065</td>\n",
       "    </tr>\n",
       "  </tbody>\n",
       "</table>\n",
       "</div>"
      ],
      "text/plain": [
       "  Symbols  Counts\n",
       "0    CLOV    3421\n",
       "1    TSLA    1985\n",
       "2    WISH    1923\n",
       "3     AMD    1144\n",
       "4     SDC    1065"
      ]
     },
     "execution_count": 26,
     "metadata": {},
     "output_type": "execute_result"
    }
   ],
   "source": [
    "# Sort all_tickers based on the number of stock symbol mentioned in the posts\n",
    "sorted_all_tickers = sorted(all_tickers.items(), key=lambda kv: kv[1], reverse = True)\n",
    "symbols_list = pd.DataFrame(sorted_all_tickers, columns = ['Symbols', 'Counts'])\n",
    "symbols_list.head(5)"
   ]
  },
  {
   "cell_type": "code",
   "execution_count": 27,
   "id": "574daf25",
   "metadata": {},
   "outputs": [],
   "source": [
    "# Export symbols_list\n",
    "symbols_list.to_csv('./Datasets/2021_Symbols_list.csv', index = False)"
   ]
  },
  {
   "cell_type": "markdown",
   "id": "be6e65a9",
   "metadata": {},
   "source": [
    "### 2. Export 'posts_with_ticker.csv'"
   ]
  },
  {
   "cell_type": "code",
   "execution_count": 28,
   "id": "8d5ccf2e",
   "metadata": {},
   "outputs": [],
   "source": [
    "posts_df['ticker'] = ticker_col  # add new column 'ticker'\n",
    "posts_df = posts_df[posts_df.ticker != 'NA'] # remove data with no tickers\n",
    "posts_df = posts_df.reset_index(drop=True)"
   ]
  },
  {
   "cell_type": "code",
   "execution_count": 29,
   "id": "4927ddd8",
   "metadata": {},
   "outputs": [
    {
     "name": "stderr",
     "output_type": "stream",
     "text": [
      "<ipython-input-29-3f50416766ca>:11: SettingWithCopyWarning: \n",
      "A value is trying to be set on a copy of a slice from a DataFrame\n",
      "\n",
      "See the caveats in the documentation: https://pandas.pydata.org/pandas-docs/stable/user_guide/indexing.html#returning-a-view-versus-a-copy\n",
      "  posts_df.ticker[i] = posts_df.ticker[i][0]\n"
     ]
    }
   ],
   "source": [
    "# extra dataframe is to store the added data with the second, third, ..., tickers\n",
    "extra = pd.DataFrame()\n",
    "for i in range(len(posts_df)):\n",
    "    if len(posts_df.ticker[i]) > 1:\n",
    "        for j in range(1, len(posts_df.ticker[i])):\n",
    "            x = posts_df.iloc[i].copy()\n",
    "            x.ticker = posts_df.ticker[i][j]\n",
    "            extra = extra.append(x)\n",
    "    \n",
    "    # modify the first mentioned ticker in original posts_df after each iteration\n",
    "    posts_df.ticker[i] = posts_df.ticker[i][0]\n",
    "    "
   ]
  },
  {
   "cell_type": "code",
   "execution_count": 30,
   "id": "0c4f07fe",
   "metadata": {},
   "outputs": [
    {
     "name": "stdout",
     "output_type": "stream",
     "text": [
      "(37991, 6)\n"
     ]
    },
    {
     "data": {
      "text/html": [
       "<div>\n",
       "<style scoped>\n",
       "    .dataframe tbody tr th:only-of-type {\n",
       "        vertical-align: middle;\n",
       "    }\n",
       "\n",
       "    .dataframe tbody tr th {\n",
       "        vertical-align: top;\n",
       "    }\n",
       "\n",
       "    .dataframe thead th {\n",
       "        text-align: right;\n",
       "    }\n",
       "</style>\n",
       "<table border=\"1\" class=\"dataframe\">\n",
       "  <thead>\n",
       "    <tr style=\"text-align: right;\">\n",
       "      <th></th>\n",
       "      <th>num_comments</th>\n",
       "      <th>score</th>\n",
       "      <th>upvote_ratio</th>\n",
       "      <th>created_utc</th>\n",
       "      <th>content</th>\n",
       "      <th>ticker</th>\n",
       "    </tr>\n",
       "  </thead>\n",
       "  <tbody>\n",
       "    <tr>\n",
       "      <th>0</th>\n",
       "      <td>0.0</td>\n",
       "      <td>1.0</td>\n",
       "      <td>1.0</td>\n",
       "      <td>2021-01-01 00:54:48</td>\n",
       "      <td>Sell GOOG and buy VUG and FDN removed</td>\n",
       "      <td>GOOG</td>\n",
       "    </tr>\n",
       "    <tr>\n",
       "      <th>1</th>\n",
       "      <td>0.0</td>\n",
       "      <td>1.0</td>\n",
       "      <td>1.0</td>\n",
       "      <td>2021-01-01 03:30:18</td>\n",
       "      <td>Lets hope that during the new year retarded po...</td>\n",
       "      <td>TSLA</td>\n",
       "    </tr>\n",
       "    <tr>\n",
       "      <th>2</th>\n",
       "      <td>6.0</td>\n",
       "      <td>1.0</td>\n",
       "      <td>1.0</td>\n",
       "      <td>2021-01-01 05:19:50</td>\n",
       "      <td>sales BBY down  from ath ZM down  from ath Th...</td>\n",
       "      <td>ZM</td>\n",
       "    </tr>\n",
       "    <tr>\n",
       "      <th>3</th>\n",
       "      <td>52.0</td>\n",
       "      <td>1.0</td>\n",
       "      <td>1.0</td>\n",
       "      <td>2021-01-01 07:03:43</td>\n",
       "      <td>Is AAPL looking like a YOLO buy FACTS is xmasn...</td>\n",
       "      <td>AAPL</td>\n",
       "    </tr>\n",
       "    <tr>\n",
       "      <th>4</th>\n",
       "      <td>7.0</td>\n",
       "      <td>1.0</td>\n",
       "      <td>1.0</td>\n",
       "      <td>2021-01-01 08:29:45</td>\n",
       "      <td>Stop wasting your money on internet awards and...</td>\n",
       "      <td>LIFE</td>\n",
       "    </tr>\n",
       "  </tbody>\n",
       "</table>\n",
       "</div>"
      ],
      "text/plain": [
       "   num_comments  score  upvote_ratio          created_utc  \\\n",
       "0           0.0    1.0           1.0  2021-01-01 00:54:48   \n",
       "1           0.0    1.0           1.0  2021-01-01 03:30:18   \n",
       "2           6.0    1.0           1.0  2021-01-01 05:19:50   \n",
       "3          52.0    1.0           1.0  2021-01-01 07:03:43   \n",
       "4           7.0    1.0           1.0  2021-01-01 08:29:45   \n",
       "\n",
       "                                             content ticker  \n",
       "0              Sell GOOG and buy VUG and FDN removed   GOOG  \n",
       "1  Lets hope that during the new year retarded po...   TSLA  \n",
       "2   sales BBY down  from ath ZM down  from ath Th...     ZM  \n",
       "3  Is AAPL looking like a YOLO buy FACTS is xmasn...   AAPL  \n",
       "4  Stop wasting your money on internet awards and...   LIFE  "
      ]
     },
     "execution_count": 30,
     "metadata": {},
     "output_type": "execute_result"
    }
   ],
   "source": [
    "# Combine original and extra dataframe\n",
    "posts_df_ticker = pd.concat([posts_df, extra]).sort_values('created_utc').reset_index(drop=True)\n",
    "print(posts_df_ticker.shape)\n",
    "posts_df_ticker.head(5)"
   ]
  },
  {
   "cell_type": "code",
   "execution_count": 31,
   "id": "b1874de1",
   "metadata": {},
   "outputs": [],
   "source": [
    "# Export 'posts_with_ticker.csv'\n",
    "posts_df_ticker.to_csv('./Datasets/posts_with_ticker.csv', index = False)"
   ]
  }
 ],
 "metadata": {
  "colab": {
   "name": "Subreddit in wallstreetbets.ipynb",
   "provenance": []
  },
  "kernelspec": {
   "display_name": "Python 3",
   "language": "python",
   "name": "python3"
  },
  "language_info": {
   "codemirror_mode": {
    "name": "ipython",
    "version": 3
   },
   "file_extension": ".py",
   "mimetype": "text/x-python",
   "name": "python",
   "nbconvert_exporter": "python",
   "pygments_lexer": "ipython3",
   "version": "3.8.8"
  }
 },
 "nbformat": 4,
 "nbformat_minor": 5
}
